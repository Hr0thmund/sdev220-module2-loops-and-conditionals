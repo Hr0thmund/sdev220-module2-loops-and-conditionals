{
 "cells": [
  {
   "cell_type": "code",
   "execution_count": 33,
   "id": "ec45b9f4-cd4c-4c95-9cfc-5aee8fc545a7",
   "metadata": {},
   "outputs": [
    {
     "name": "stdout",
     "output_type": "stream",
     "text": [
      "Too low!\n",
      "The number was 9.\n"
     ]
    }
   ],
   "source": [
    "# 4.1 \n",
    "import random\n",
    "secret = random.randint(1, 10)\n",
    "guess = 4\n",
    "if guess < secret:\n",
    "    print(\"Too low!\")\n",
    "elif guess == secret:\n",
    "    print(\"Just right!\")\n",
    "else:\n",
    "    print(\"Too High!\")\n",
    "print(\"The number was \" + str(secret) + '.')\n"
   ]
  },
  {
   "cell_type": "code",
   "execution_count": 31,
   "id": "ed51411f-f0e9-4edb-acd8-8ccfd71d0955",
   "metadata": {},
   "outputs": [
    {
     "name": "stdout",
     "output_type": "stream",
     "text": [
      "Pea!\n"
     ]
    }
   ],
   "source": [
    "# 4.2\n",
    "small=random.choice([True, False])\n",
    "green=random.choice([True, False])\n",
    "if small:\n",
    "    if green:\n",
    "        print(\"Pea!\")\n",
    "    else:\n",
    "        print(\"Cherry!\")\n",
    "else:\n",
    "    if green:\n",
    "        print(\"Watermelon!\")\n",
    "    else:\n",
    "        print(\"Pumpkin!\")\n"
   ]
  },
  {
   "cell_type": "code",
   "execution_count": 35,
   "id": "be5e73b8-a623-4453-ab40-81f07513556c",
   "metadata": {},
   "outputs": [
    {
     "name": "stdout",
     "output_type": "stream",
     "text": [
      "3\n",
      "2\n",
      "1\n",
      "0\n"
     ]
    }
   ],
   "source": [
    "# 6.1\n",
    "list = [3, 2, 1, 0]\n",
    "for element in list:\n",
    "    print(element)\n"
   ]
  },
  {
   "cell_type": "code",
   "execution_count": 37,
   "id": "8161bce6-e42d-46c3-991d-ac74de336a01",
   "metadata": {},
   "outputs": [
    {
     "name": "stdout",
     "output_type": "stream",
     "text": [
      "too low\n",
      "too low\n",
      "too low\n",
      "too low\n",
      "too low\n",
      "too low\n",
      "found it!\n"
     ]
    }
   ],
   "source": [
    "# 6.2\n",
    "guess_me = 7\n",
    "number = 1\n",
    "while number < guess_me:\n",
    "    print(\"too low\")\n",
    "    number += 1\n",
    "else:\n",
    "    if number == guess_me:\n",
    "        print(\"found it!\")\n",
    "    else:\n",
    "        print(\"oops\")"
   ]
  },
  {
   "cell_type": "code",
   "execution_count": 41,
   "id": "7625ad31-598a-419f-a8e6-153b84ea7b8d",
   "metadata": {},
   "outputs": [
    {
     "name": "stdout",
     "output_type": "stream",
     "text": [
      "too low\n",
      "too low\n",
      "too low\n",
      "too low\n",
      "too low\n",
      "found it!\n"
     ]
    }
   ],
   "source": [
    "# 6.3\n",
    "guess_me = 5\n",
    "for number in range(10):\n",
    "    if number < guess_me:\n",
    "        print(\"too low\")\n",
    "    elif number == guess_me:\n",
    "        print(\"found it!\")\n",
    "        break\n",
    "    else:\n",
    "        print(\"oops\")\n",
    "        break\n"
   ]
  },
  {
   "cell_type": "code",
   "execution_count": null,
   "id": "a98bd47c-eba5-4b9c-833b-14f3519e6172",
   "metadata": {},
   "outputs": [],
   "source": []
  }
 ],
 "metadata": {
  "kernelspec": {
   "display_name": "Python 3 (ipykernel)",
   "language": "python",
   "name": "python3"
  },
  "language_info": {
   "codemirror_mode": {
    "name": "ipython",
    "version": 3
   },
   "file_extension": ".py",
   "mimetype": "text/x-python",
   "name": "python",
   "nbconvert_exporter": "python",
   "pygments_lexer": "ipython3",
   "version": "3.12.4"
  }
 },
 "nbformat": 4,
 "nbformat_minor": 5
}
